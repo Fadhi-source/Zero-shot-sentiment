{
 "cells": [
  {
   "cell_type": "code",
   "execution_count": 1,
   "id": "9aada552",
   "metadata": {},
   "outputs": [
    {
     "name": "stdout",
     "output_type": "stream",
     "text": [
      "WARNING:tensorflow:From c:\\Users\\8748f\\anaconda3\\Lib\\site-packages\\keras\\src\\losses.py:2976: The name tf.losses.sparse_softmax_cross_entropy is deprecated. Please use tf.compat.v1.losses.sparse_softmax_cross_entropy instead.\n",
      "\n"
     ]
    }
   ],
   "source": [
    "import tensorflow as tf\n",
    "\n",
    "# Load and decode the dataset\n",
    "(train_data, train_labels), (_, _) = tf.keras.datasets.imdb.load_data(num_words=10000)\n",
    "word_index = tf.keras.datasets.imdb.get_word_index()\n",
    "reverse_word_index = {i + 3: word for word, i in word_index.items()}\n",
    "reverse_word_index[0] = \"<PAD>\"\n",
    "reverse_word_index[1] = \"<START>\"\n",
    "reverse_word_index[2] = \"<?>\"\n",
    "\n",
    "# Decode a review\n",
    "def decode_review(encoded_review):\n",
    "    return \" \".join([reverse_word_index.get(i, \"<?>\") for i in encoded_review])\n",
    "\n",
    "# Example\n",
    "decoded_reviews = [decode_review(review) for review in train_data[:100]]  # First 100 reviews\n",
    "labels = train_labels[:100].tolist()"
   ]
  },
  {
   "cell_type": "code",
   "execution_count": null,
   "id": "ad15274f",
   "metadata": {},
   "outputs": [
    {
     "name": "stderr",
     "output_type": "stream",
     "text": [
      "Device set to use cpu\n"
     ]
    }
   ],
   "source": [
    "from transformers import pipeline\n",
    "\n",
    "classifier = pipeline(\"zero-shot-classification\", model=\"facebook/bart-large-mnli\")\n",
    "candidate_labels = [\"negative\", \"positive\"]"
   ]
  },
  {
   "cell_type": "code",
   "execution_count": null,
   "id": "a600d9c1",
   "metadata": {},
   "outputs": [
    {
     "name": "stderr",
     "output_type": "stream",
     "text": [
      "100%|██████████| 50/50 [02:57<00:00,  3.54s/it]\n"
     ]
    }
   ],
   "source": [
    "from tqdm import tqdm \n",
    "\n",
    "predicted_labels = []\n",
    "\n",
    "\n",
    "for review in tqdm(decoded_reviews[:50]):\n",
    "    result = classifier(review, candidate_labels, truncation=True)\n",
    "    predicted_labels.append(1 if result[\"labels\"][0] == \"positive\" else 0)"
   ]
  },
  {
   "cell_type": "code",
   "execution_count": null,
   "id": "21cec38b",
   "metadata": {},
   "outputs": [
    {
     "name": "stdout",
     "output_type": "stream",
     "text": [
      "Accuracy: 92.00%\n",
      "Confusion Matrix:\n",
      "[[28  1]\n",
      " [ 3 18]]\n"
     ]
    }
   ],
   "source": [
    "from sklearn.metrics import accuracy_score, confusion_matrix\n",
    "\n",
    "accuracy = accuracy_score(labels[:50], predicted_labels)\n",
    "print(f\"Accuracy: {accuracy * 100:.2f}%\")\n",
    "\n",
    "# Confusion Matrix--------------------------------\n",
    "cm = confusion_matrix(labels[:50], predicted_labels)\n",
    "print(\"Confusion Matrix:\")\n",
    "print(cm)"
   ]
  }
 ],
 "metadata": {
  "kernelspec": {
   "display_name": "base",
   "language": "python",
   "name": "python3"
  },
  "language_info": {
   "codemirror_mode": {
    "name": "ipython",
    "version": 3
   },
   "file_extension": ".py",
   "mimetype": "text/x-python",
   "name": "python",
   "nbconvert_exporter": "python",
   "pygments_lexer": "ipython3",
   "version": "3.11.7"
  }
 },
 "nbformat": 4,
 "nbformat_minor": 5
}
